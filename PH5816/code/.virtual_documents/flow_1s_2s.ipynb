import numpy as np
import matplotlib.pyplot as plt












xx=6;  x = np.linspace(-xx,xx,128); 
 
Lx, Ly = 2*np.pi, 2*np.pi
Np =64
xG, zG = np.meshgrid(np.linspace(-Lx, Lx, Np), np.linspace(-Lx, Lx, Np))

fx, fz = 0, -1

r = np.sqrt(xG*xG + zG*zG)
idr = 1/r
fD = (fx*xG + fz*zG)*idr*idr

vx = (fx + fD*xG)*idr
vz = (fz + fD*zG)*idr

plt.streamplot(xG, zG, vx, vz,density=0.8, arrowsize=2, broken_streamlines=True); 
spd = vx*vx + vz*vz; plt.pcolor(xG, zG, np.log(spd), cmap=plt.cm.bone); plt.colorbar()
plt.plot(0, 0, 'o', ms=32, mfc='w')








xx=6;  x = np.linspace(-xx,xx,128); 
 
Lx, Ly = 2*np.pi, 2*np.pi
Np =64
xG, zG = np.meshgrid(np.linspace(-Lx, Lx, Np), np.linspace(-Lx, Lx, Np))
s0=1
r = np.sqrt(xG*xG + zG*zG)
idr = 1/r
idr2 = idr*idr 

ex, ez = 0, 1
eR2 = (ex*xG + ez*zG)*(ex*xG + ez*zG)*idr2

vx = s0*(3*eR2*xG - xG)*idr2*idr
vz = s0*(3*eR2*zG - zG)*idr2*idr


plt.streamplot(xG, zG, vx, vz,density=.83, arrowsize=1, broken_streamlines=True); 
spd = vx*vx + vz*vz; plt.pcolor(xG, zG, np.log(spd), cmap=plt.cm.bone); plt.colorbar()

plt.plot(0, 0, 'o', ms=32, mfc='g')



